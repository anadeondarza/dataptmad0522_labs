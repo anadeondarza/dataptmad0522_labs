{
 "cells": [
  {
   "cell_type": "code",
   "execution_count": 5,
   "id": "d53f2ee8",
   "metadata": {},
   "outputs": [
    {
     "name": "stdout",
     "output_type": "stream",
     "text": [
      "Welcome to this calculator!\n",
      "It can add and subtract whole numbers from zero to five\n",
      "Please choose your first number (zero to five): 7\n",
      "What do you want to do? plus or minus: minus\n",
      "Please choose your second number (zero to five): 7\n"
     ]
    }
   ],
   "source": [
    "print('Welcome to this calculator!')\n",
    "print('It can add and subtract whole numbers from zero to five')\n",
    "a = int(input('Please choose your first number (zero to five): '))\n",
    "b = input('What do you want to do? plus or minus: ')\n",
    "c = int(input('Please choose your second number (zero to five): '))\n",
    "\n",
    "\n",
    "if b == \"plus\":\n",
    "    if a<= 0 and c <= 0:\n",
    "        print(a,\"plus\", c, \"equals\", a+c)\n",
    "elif b == \"minus\":\n",
    "    if a<= 0 and c <= 0:\n",
    "        print(a,\"minus\", c, \"equals\", a-c)\n",
    "else: \n",
    "    print(\"I am not able to answer this question. Check your input.\")"
   ]
  },
  {
   "cell_type": "code",
   "execution_count": null,
   "id": "8b619bcd",
   "metadata": {},
   "outputs": [],
   "source": []
  }
 ],
 "metadata": {
  "kernelspec": {
   "display_name": "Python [conda env:jp_env] *",
   "language": "python",
   "name": "conda-env-jp_env-py"
  },
  "language_info": {
   "codemirror_mode": {
    "name": "ipython",
    "version": 3
   },
   "file_extension": ".py",
   "mimetype": "text/x-python",
   "name": "python",
   "nbconvert_exporter": "python",
   "pygments_lexer": "ipython3",
   "version": "3.9.12"
  }
 },
 "nbformat": 4,
 "nbformat_minor": 5
}
