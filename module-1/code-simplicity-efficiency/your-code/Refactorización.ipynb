{
 "cells": [
  {
   "cell_type": "code",
   "execution_count": null,
   "id": "3707dbbd",
   "metadata": {},
   "outputs": [],
   "source": [
    "def calculation(x):\n",
    "    if b == \"plus\":\n",
    "            print(a,\"plus\", c, \"equals\", a+c)\n",
    "    elif b == \"minus\":\n",
    "            print(a,\"minus\", c, \"equals\", a-c)\n",
    "    return x"
   ]
  },
  {
   "cell_type": "code",
   "execution_count": null,
   "id": "d9a41001",
   "metadata": {},
   "outputs": [],
   "source": [
    "\n",
    "  "
   ]
  },
  {
   "cell_type": "code",
   "execution_count": null,
   "id": "5f537f13",
   "metadata": {},
   "outputs": [],
   "source": []
  }
 ],
 "metadata": {
  "kernelspec": {
   "display_name": "Python [conda env:m1_ih]",
   "language": "python",
   "name": "conda-env-m1_ih-py"
  },
  "language_info": {
   "codemirror_mode": {
    "name": "ipython",
    "version": 3
   },
   "file_extension": ".py",
   "mimetype": "text/x-python",
   "name": "python",
   "nbconvert_exporter": "python",
   "pygments_lexer": "ipython3",
   "version": "3.9.12"
  }
 },
 "nbformat": 4,
 "nbformat_minor": 5
}
