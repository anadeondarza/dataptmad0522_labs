{
 "cells": [
  {
   "cell_type": "code",
   "execution_count": 23,
   "id": "f8448425",
   "metadata": {},
   "outputs": [
    {
     "name": "stdout",
     "output_type": "stream",
     "text": [
      "I am not able to answer this question. Check your input.\n"
     ]
    }
   ],
   "source": [
    "a = 3\n",
    "b = \"minus\"\n",
    "c = 2\n",
    "\n",
    "if b == \"plus\" and a<= 5 and c<= 5:\n",
    "    print(a,\"plus\", c, \"equals\", a+c)\n",
    "elif b == \"minus\"and a>5 and c>5:\n",
    "    print(a,\"minus\", c, \"equals\", a-c)\n",
    "else: \n",
    "    print(\"I am not able to answer this question. Check your input.\")\n",
    "  \n",
    "  "
   ]
  },
  {
   "cell_type": "code",
   "execution_count": 24,
   "id": "86ada716",
   "metadata": {},
   "outputs": [
    {
     "name": "stdout",
     "output_type": "stream",
     "text": [
      "I am not able to answer this question. Check your input.\n"
     ]
    }
   ],
   "source": [
    "a = 3\n",
    "b = \"minus\"\n",
    "c = 2\n",
    "\n",
    "if b == \"plus\" and a<= 5 and c<= 5:\n",
    "    print(a,\"plus\", c, \"equals\", a+c)\n",
    "elif b == \"minus\"and a>5 and c>5:\n",
    "    print(a,\"minus\", c, \"equals\", a-c)\n",
    "else: \n",
    "    print(\"I am not able to answer this question. Check your input.\")"
   ]
  },
  {
   "cell_type": "code",
   "execution_count": null,
   "id": "086a9253",
   "metadata": {},
   "outputs": [],
   "source": []
  }
 ],
 "metadata": {
  "kernelspec": {
   "display_name": "Python [conda env:m1_ih]",
   "language": "python",
   "name": "conda-env-m1_ih-py"
  },
  "language_info": {
   "codemirror_mode": {
    "name": "ipython",
    "version": 3
   },
   "file_extension": ".py",
   "mimetype": "text/x-python",
   "name": "python",
   "nbconvert_exporter": "python",
   "pygments_lexer": "ipython3",
   "version": "3.9.12"
  }
 },
 "nbformat": 4,
 "nbformat_minor": 5
}
