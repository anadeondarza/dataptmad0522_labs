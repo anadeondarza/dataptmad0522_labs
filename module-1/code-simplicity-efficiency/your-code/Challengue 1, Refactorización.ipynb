{
 "cells": [
  {
   "cell_type": "code",
   "execution_count": null,
   "id": "3707dbbd",
   "metadata": {},
   "outputs": [],
   "source": [
    "def calculation(x):\n",
    "    if b == \"plus\":\n",
    "        if 0>= a <= 5 and 0>= c <= 5:\n",
    "            print(a,\"plus\", c, \"equals\", a+c)\n",
    "    elif b == \"minus\":\n",
    "        if 0>= a <= 5 and 0>= c <= 5:\n",
    "            print(a,\"minus\", c, \"equals\", a-c)\n",
    "    return b"
   ]
  },
  {
   "cell_type": "code",
   "execution_count": null,
   "id": "d9a41001",
   "metadata": {},
   "outputs": [],
   "source": [
    "a = 4\n",
    "b = \"plus\"\n",
    "c = 3\n",
    "\n",
    "if b == \"plus\" and 0>= a <= 5 and 0>= c <= 5:\n",
    "    print(a,\"plus\", c, \"equals\", a+c)\n",
    "elif b == \"minus\" and 0>= a <= 5 and 0>= c <= 5:\n",
    "    print(a,\"minus\", c, \"equals\", a-c)\n",
    "else: \n",
    "    print(\"mal\")\n",
    "  "
   ]
  },
  {
   "cell_type": "code",
   "execution_count": null,
   "id": "5f537f13",
   "metadata": {},
   "outputs": [],
   "source": []
  }
 ],
 "metadata": {
  "kernelspec": {
   "display_name": "Python [conda env:m1_ih]",
   "language": "python",
   "name": "conda-env-m1_ih-py"
  },
  "language_info": {
   "codemirror_mode": {
    "name": "ipython",
    "version": 3
   },
   "file_extension": ".py",
   "mimetype": "text/x-python",
   "name": "python",
   "nbconvert_exporter": "python",
   "pygments_lexer": "ipython3",
   "version": "3.9.12"
  }
 },
 "nbformat": 4,
 "nbformat_minor": 5
}
