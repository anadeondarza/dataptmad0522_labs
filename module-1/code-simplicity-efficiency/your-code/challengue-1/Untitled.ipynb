{
 "cells": [
  {
   "cell_type": "code",
   "execution_count": 32,
   "id": "980391af",
   "metadata": {},
   "outputs": [],
   "source": [
    "\n",
    "\n",
    "def calculation (x):\n",
    "    a = [\"zero\", \"one\", \"two\", \"three\", \"four\", \"five\"]\n",
    "    if b == \"plus\":\n",
    "        for word in a:\n",
    "            for y in a:\n",
    "                    print (word + \" \" + b + \" \" + y + \" \" + \"equals\" + \" \" + c)\n",
    "\n",
    "\n",
    "            \n",
    "            \n",
    "        \n"
   ]
  },
  {
   "cell_type": "code",
   "execution_count": 33,
   "id": "052050ca",
   "metadata": {},
   "outputs": [
    {
     "name": "stdout",
     "output_type": "stream",
     "text": [
      "zero plus zero equals two\n",
      "zero plus one equals two\n",
      "zero plus two equals two\n",
      "zero plus three equals two\n",
      "zero plus four equals two\n",
      "zero plus five equals two\n",
      "one plus zero equals two\n",
      "one plus one equals two\n",
      "one plus two equals two\n",
      "one plus three equals two\n",
      "one plus four equals two\n",
      "one plus five equals two\n",
      "two plus zero equals two\n",
      "two plus one equals two\n",
      "two plus two equals two\n",
      "two plus three equals two\n",
      "two plus four equals two\n",
      "two plus five equals two\n",
      "three plus zero equals two\n",
      "three plus one equals two\n",
      "three plus two equals two\n",
      "three plus three equals two\n",
      "three plus four equals two\n",
      "three plus five equals two\n",
      "four plus zero equals two\n",
      "four plus one equals two\n",
      "four plus two equals two\n",
      "four plus three equals two\n",
      "four plus four equals two\n",
      "four plus five equals two\n",
      "five plus zero equals two\n",
      "five plus one equals two\n",
      "five plus two equals two\n",
      "five plus three equals two\n",
      "five plus four equals two\n",
      "five plus five equals two\n"
     ]
    }
   ],
   "source": [
    "calculation([\"zero\", \"one\", \"two\", \"three\", \"four\", \"five\"])"
   ]
  },
  {
   "cell_type": "code",
   "execution_count": null,
   "id": "b961c13f",
   "metadata": {},
   "outputs": [],
   "source": []
  },
  {
   "cell_type": "code",
   "execution_count": null,
   "id": "112345b4",
   "metadata": {},
   "outputs": [],
   "source": []
  }
 ],
 "metadata": {
  "kernelspec": {
   "display_name": "Python [conda env:jp_env] *",
   "language": "python",
   "name": "conda-env-jp_env-py"
  },
  "language_info": {
   "codemirror_mode": {
    "name": "ipython",
    "version": 3
   },
   "file_extension": ".py",
   "mimetype": "text/x-python",
   "name": "python",
   "nbconvert_exporter": "python",
   "pygments_lexer": "ipython3",
   "version": "3.9.12"
  }
 },
 "nbformat": 4,
 "nbformat_minor": 5
}
