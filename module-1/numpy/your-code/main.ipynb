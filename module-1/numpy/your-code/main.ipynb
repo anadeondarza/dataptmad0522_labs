{
 "cells": [
  {
   "cell_type": "markdown",
   "metadata": {},
   "source": [
    "# Introduction to NumPy\n",
    "\n",
    "\n",
    "#### 1. Import NumPy under the name np."
   ]
  },
  {
   "cell_type": "code",
   "execution_count": 6,
   "metadata": {},
   "outputs": [],
   "source": [
    "import numpy as np"
   ]
  },
  {
   "cell_type": "markdown",
   "metadata": {},
   "source": [
    "#### 2. Print your NumPy version."
   ]
  },
  {
   "cell_type": "code",
   "execution_count": 7,
   "metadata": {},
   "outputs": [
    {
     "name": "stdout",
     "output_type": "stream",
     "text": [
      "1.22.3\n"
     ]
    }
   ],
   "source": [
    "print(np.__version__)"
   ]
  },
  {
   "cell_type": "markdown",
   "metadata": {},
   "source": [
    "#### 3. Generate a 2x3x5 3-dimensional array with random values. Assign the array to variable *a*.\n",
    "**Challenge**: there are at least three easy ways that use numpy to generate random arrays. How many ways can you find?"
   ]
  },
  {
   "cell_type": "code",
   "execution_count": 8,
   "metadata": {},
   "outputs": [
    {
     "name": "stdout",
     "output_type": "stream",
     "text": [
      "[[[0.72708245 0.71199436 0.60373158 0.38691948 0.54303985]\n",
      "  [0.35222244 0.86801516 0.4760973  0.11946089 0.71893863]\n",
      "  [0.18198273 0.88959695 0.64787349 0.52438062 0.85636445]]\n",
      "\n",
      " [[0.78957323 0.64680252 0.26042885 0.45966897 0.874562  ]\n",
      "  [0.45549488 0.11891136 0.23782735 0.63863821 0.14196462]\n",
      "  [0.20004679 0.80266081 0.70515997 0.65861492 0.3704515 ]]]\n"
     ]
    }
   ],
   "source": [
    "a = np.random.random((2,3,5))\n",
    "print(a)"
   ]
  },
  {
   "cell_type": "code",
   "execution_count": 9,
   "metadata": {},
   "outputs": [
    {
     "name": "stdout",
     "output_type": "stream",
     "text": [
      "[[[0.72708245 0.71199436 0.60373158 0.38691948 0.54303985]\n",
      "  [0.35222244 0.86801516 0.4760973  0.11946089 0.71893863]\n",
      "  [0.18198273 0.88959695 0.64787349 0.52438062 0.85636445]]\n",
      "\n",
      " [[0.78957323 0.64680252 0.26042885 0.45966897 0.874562  ]\n",
      "  [0.45549488 0.11891136 0.23782735 0.63863821 0.14196462]\n",
      "  [0.20004679 0.80266081 0.70515997 0.65861492 0.3704515 ]]]\n"
     ]
    }
   ],
   "source": [
    "copy_a = a.copy()\n",
    "print(copy_a)"
   ]
  },
  {
   "cell_type": "code",
   "execution_count": 10,
   "metadata": {},
   "outputs": [
    {
     "data": {
      "text/plain": [
       "array([[[0.72708245, 0.71199436, 0.60373158, 0.38691948, 0.54303985],\n",
       "        [0.35222244, 0.86801516, 0.4760973 , 0.11946089, 0.71893863],\n",
       "        [0.18198273, 0.88959695, 0.64787349, 0.52438062, 0.85636445]],\n",
       "\n",
       "       [[0.78957323, 0.64680252, 0.26042885, 0.45966897, 0.874562  ],\n",
       "        [0.45549488, 0.11891136, 0.23782735, 0.63863821, 0.14196462],\n",
       "        [0.20004679, 0.80266081, 0.70515997, 0.65861492, 0.3704515 ]]])"
      ]
     },
     "execution_count": 10,
     "metadata": {},
     "output_type": "execute_result"
    }
   ],
   "source": [
    "a1 = np.empty((2,3,5))\n",
    "a1"
   ]
  },
  {
   "cell_type": "markdown",
   "metadata": {},
   "source": [
    "#### 4. Print *a*.\n"
   ]
  },
  {
   "cell_type": "code",
   "execution_count": 11,
   "metadata": {},
   "outputs": [
    {
     "name": "stdout",
     "output_type": "stream",
     "text": [
      "[[[0.72708245 0.71199436 0.60373158 0.38691948 0.54303985]\n",
      "  [0.35222244 0.86801516 0.4760973  0.11946089 0.71893863]\n",
      "  [0.18198273 0.88959695 0.64787349 0.52438062 0.85636445]]\n",
      "\n",
      " [[0.78957323 0.64680252 0.26042885 0.45966897 0.874562  ]\n",
      "  [0.45549488 0.11891136 0.23782735 0.63863821 0.14196462]\n",
      "  [0.20004679 0.80266081 0.70515997 0.65861492 0.3704515 ]]]\n"
     ]
    }
   ],
   "source": [
    "print(a)"
   ]
  },
  {
   "cell_type": "markdown",
   "metadata": {},
   "source": [
    "#### 5. Create a 5x2x3 3-dimensional array with all values equaling 1. Assign the array to variable *b*."
   ]
  },
  {
   "cell_type": "code",
   "execution_count": 12,
   "metadata": {},
   "outputs": [],
   "source": [
    "b = np.ones((5,2,3))"
   ]
  },
  {
   "cell_type": "markdown",
   "metadata": {},
   "source": [
    "#### 6. Print *b*.\n"
   ]
  },
  {
   "cell_type": "code",
   "execution_count": 13,
   "metadata": {},
   "outputs": [
    {
     "data": {
      "text/plain": [
       "array([[[1., 1., 1.],\n",
       "        [1., 1., 1.]],\n",
       "\n",
       "       [[1., 1., 1.],\n",
       "        [1., 1., 1.]],\n",
       "\n",
       "       [[1., 1., 1.],\n",
       "        [1., 1., 1.]],\n",
       "\n",
       "       [[1., 1., 1.],\n",
       "        [1., 1., 1.]],\n",
       "\n",
       "       [[1., 1., 1.],\n",
       "        [1., 1., 1.]]])"
      ]
     },
     "execution_count": 13,
     "metadata": {},
     "output_type": "execute_result"
    }
   ],
   "source": [
    "b"
   ]
  },
  {
   "cell_type": "markdown",
   "metadata": {},
   "source": [
    "#### 7. Do *a* and *b* have the same size? How do you prove that in Python code?"
   ]
  },
  {
   "cell_type": "code",
   "execution_count": 14,
   "metadata": {},
   "outputs": [
    {
     "name": "stdout",
     "output_type": "stream",
     "text": [
      "30\n",
      "30\n"
     ]
    }
   ],
   "source": [
    "print(a.size) \n",
    "print(b.size) "
   ]
  },
  {
   "cell_type": "markdown",
   "metadata": {},
   "source": [
    "#### 8. Are you able to add *a* and *b*? Why or why not?\n"
   ]
  },
  {
   "cell_type": "code",
   "execution_count": 15,
   "metadata": {},
   "outputs": [
    {
     "ename": "ValueError",
     "evalue": "operands could not be broadcast together with shapes (2,3,5) (5,2,3) ",
     "output_type": "error",
     "traceback": [
      "\u001b[0;31m---------------------------------------------------------------------------\u001b[0m",
      "\u001b[0;31mValueError\u001b[0m                                Traceback (most recent call last)",
      "Input \u001b[0;32mIn [15]\u001b[0m, in \u001b[0;36m<cell line: 1>\u001b[0;34m()\u001b[0m\n\u001b[0;32m----> 1\u001b[0m \u001b[38;5;28mprint\u001b[39m(\u001b[43mnp\u001b[49m\u001b[38;5;241;43m.\u001b[39;49m\u001b[43madd\u001b[49m\u001b[43m(\u001b[49m\u001b[43ma\u001b[49m\u001b[43m,\u001b[49m\u001b[43m \u001b[49m\u001b[43mb\u001b[49m\u001b[43m)\u001b[49m)\n",
      "\u001b[0;31mValueError\u001b[0m: operands could not be broadcast together with shapes (2,3,5) (5,2,3) "
     ]
    }
   ],
   "source": [
    "print(np.add(a, b))  # no se puede sumar al no tener la misma forma"
   ]
  },
  {
   "cell_type": "markdown",
   "metadata": {},
   "source": [
    "#### 9. Transpose *b* so that it has the same structure of *a* (i.e. become a 2x3x5 array). Assign the transposed array to variable *c*."
   ]
  },
  {
   "cell_type": "code",
   "execution_count": 16,
   "metadata": {},
   "outputs": [
    {
     "data": {
      "text/plain": [
       "array([[[1., 1., 1., 1., 1.],\n",
       "        [1., 1., 1., 1., 1.],\n",
       "        [1., 1., 1., 1., 1.]],\n",
       "\n",
       "       [[1., 1., 1., 1., 1.],\n",
       "        [1., 1., 1., 1., 1.],\n",
       "        [1., 1., 1., 1., 1.]]])"
      ]
     },
     "execution_count": 16,
     "metadata": {},
     "output_type": "execute_result"
    }
   ],
   "source": [
    "c = b.reshape(2,3,5)\n",
    "c"
   ]
  },
  {
   "cell_type": "markdown",
   "metadata": {},
   "source": [
    "#### 10. Try to add *a* and *c*. Now it should work. Assign the sum to variable *d*. But why does it work now?"
   ]
  },
  {
   "cell_type": "code",
   "execution_count": 17,
   "metadata": {},
   "outputs": [
    {
     "name": "stdout",
     "output_type": "stream",
     "text": [
      "(2, 3, 5)\n"
     ]
    }
   ],
   "source": [
    "d = np.add(a,c)\n",
    "d\n",
    "#they have the sime shape\n",
    "print(d.shape)"
   ]
  },
  {
   "cell_type": "markdown",
   "metadata": {},
   "source": [
    "#### 11. Print *a* and *d*. Notice the difference and relation of the two array in terms of the values? Explain."
   ]
  },
  {
   "cell_type": "code",
   "execution_count": 22,
   "metadata": {},
   "outputs": [
    {
     "name": "stdout",
     "output_type": "stream",
     "text": [
      "[[[0.96721469 0.8871614  0.36551847 0.82635097 0.2236851 ]\n",
      "  [0.64621289 0.713039   0.67146643 0.65632011 0.25249168]\n",
      "  [0.52313032 0.03876759 0.69055098 0.13061931 0.92356728]]\n",
      "\n",
      " [[0.54192418 0.5059538  0.80835549 0.56554107 0.2678267 ]\n",
      "  [0.18420083 0.74500435 0.11550593 0.90586616 0.82886038]\n",
      "  [0.56092419 0.99172108 0.7755791  0.39907362 0.73724568]]]\n"
     ]
    }
   ],
   "source": [
    "print(a) #we have sum 1.0 to every value."
   ]
  },
  {
   "cell_type": "markdown",
   "metadata": {},
   "source": [
    "#### 12. Multiply *a* and *c*. Assign the result to *e*."
   ]
  },
  {
   "cell_type": "code",
   "execution_count": 18,
   "metadata": {},
   "outputs": [
    {
     "data": {
      "text/plain": [
       "array([[[0.72708245, 0.71199436, 0.60373158, 0.38691948, 0.54303985],\n",
       "        [0.35222244, 0.86801516, 0.4760973 , 0.11946089, 0.71893863],\n",
       "        [0.18198273, 0.88959695, 0.64787349, 0.52438062, 0.85636445]],\n",
       "\n",
       "       [[0.78957323, 0.64680252, 0.26042885, 0.45966897, 0.874562  ],\n",
       "        [0.45549488, 0.11891136, 0.23782735, 0.63863821, 0.14196462],\n",
       "        [0.20004679, 0.80266081, 0.70515997, 0.65861492, 0.3704515 ]]])"
      ]
     },
     "execution_count": 18,
     "metadata": {},
     "output_type": "execute_result"
    }
   ],
   "source": [
    "e = np.multiply(a, c)\n",
    "e"
   ]
  },
  {
   "cell_type": "markdown",
   "metadata": {},
   "source": [
    "#### 13. Does *e* equal to *a*? Why or why not?\n"
   ]
  },
  {
   "cell_type": "code",
   "execution_count": 18,
   "metadata": {},
   "outputs": [
    {
     "data": {
      "text/plain": [
       "array([[[0.96721469, 0.8871614 , 0.36551847, 0.82635097, 0.2236851 ],\n",
       "        [0.64621289, 0.713039  , 0.67146643, 0.65632011, 0.25249168],\n",
       "        [0.52313032, 0.03876759, 0.69055098, 0.13061931, 0.92356728]],\n",
       "\n",
       "       [[0.54192418, 0.5059538 , 0.80835549, 0.56554107, 0.2678267 ],\n",
       "        [0.18420083, 0.74500435, 0.11550593, 0.90586616, 0.82886038],\n",
       "        [0.56092419, 0.99172108, 0.7755791 , 0.39907362, 0.73724568]]])"
      ]
     },
     "execution_count": 18,
     "metadata": {},
     "output_type": "execute_result"
    }
   ],
   "source": [
    "# sí, a = e porque hemos multiplicado por 1"
   ]
  },
  {
   "cell_type": "markdown",
   "metadata": {},
   "source": [
    "#### 14. Identify the max, min, and mean values in *d*. Assign those values to variables *d_max*, *d_min* and *d_mean*."
   ]
  },
  {
   "cell_type": "code",
   "execution_count": 19,
   "metadata": {},
   "outputs": [
    {
     "name": "stdout",
     "output_type": "stream",
     "text": [
      "1.1189113612510648\n",
      "1.8895969470859302\n",
      "1.5322835457894042\n"
     ]
    }
   ],
   "source": [
    "d_max = d.max()\n",
    "d_min = d.min()\n",
    "d_mean = d.mean()\n",
    "print(d_min)\n",
    "print(d_max)\n",
    "print(d_mean)"
   ]
  },
  {
   "cell_type": "markdown",
   "metadata": {},
   "source": [
    "#### 15. Now we want to label the values in *d*. First create an empty array *f* with the same shape (i.e. 2x3x5) as *d* using `np.empty`.\n"
   ]
  },
  {
   "cell_type": "code",
   "execution_count": 71,
   "metadata": {},
   "outputs": [
    {
     "name": "stdout",
     "output_type": "stream",
     "text": [
      "[[[1.72708245 1.71199436 1.60373158 1.38691948 1.54303985]\n",
      "  [1.35222244 1.86801516 1.4760973  1.11946089 1.71893863]\n",
      "  [1.18198273 1.88959695 1.64787349 1.52438062 1.85636445]]\n",
      "\n",
      " [[1.78957323 1.64680252 1.26042885 1.45966897 1.874562  ]\n",
      "  [1.45549488 1.11891136 1.23782735 1.63863821 1.14196462]\n",
      "  [1.20004679 1.80266081 1.70515997 1.65861492 1.3704515 ]]]\n"
     ]
    }
   ],
   "source": [
    "f = np.empty((2,3,5))\n",
    "f\n",
    "print(f)"
   ]
  },
  {
   "cell_type": "markdown",
   "metadata": {},
   "source": [
    "#### 16. Populate the values in *f*. \n",
    "\n",
    "For each value in *d*, if it's larger than *d_min* but smaller than *d_mean*, assign 25 to the corresponding value in *f*. If a value in *d* is larger than *d_mean* but smaller than *d_max*, assign 75 to the corresponding value in *f*. If a value equals to *d_mean*, assign 50 to the corresponding value in *f*. Assign 0 to the corresponding value(s) in *f* for *d_min* in *d*. Assign 100 to the corresponding value(s) in *f* for *d_max* in *d*. In the end, f should have only the following values: 0, 25, 50, 75, and 100.\n",
    "\n",
    "**Note**: you don't have to use Numpy in this question."
   ]
  },
  {
   "cell_type": "code",
   "execution_count": 99,
   "metadata": {},
   "outputs": [],
   "source": [
    "f1 = [[[25 if d_min<item<d_mean else 75 if d_mean<item< d_max else 0 if item == d_min else 100 for item in in_list] for in_list in out_list] for out_list in d]\n"
   ]
  },
  {
   "cell_type": "code",
   "execution_count": null,
   "metadata": {},
   "outputs": [],
   "source": [
    "#solución encontrada online, empecé los loops sin saber colocar el resultado, ver abajo"
   ]
  },
  {
   "cell_type": "code",
   "execution_count": 102,
   "metadata": {},
   "outputs": [
    {
     "name": "stdout",
     "output_type": "stream",
     "text": [
      "75\n",
      "75\n",
      "75\n",
      "25\n",
      "75\n",
      "25\n",
      "75\n",
      "25\n",
      "25\n",
      "75\n",
      "25\n",
      "100\n",
      "75\n",
      "25\n",
      "75\n",
      "75\n",
      "75\n",
      "25\n",
      "25\n",
      "75\n",
      "25\n",
      "0\n",
      "25\n",
      "75\n",
      "25\n",
      "25\n",
      "75\n",
      "75\n",
      "75\n",
      "25\n"
     ]
    }
   ],
   "source": [
    "for i in d:\n",
    "    for j in i:\n",
    "        for g in j: \n",
    "            if d_min<g<d_mean:\n",
    "                print(25)\n",
    "            if d_mean<g< d_max:\n",
    "                print(75)\n",
    "            if g == d_mean:\n",
    "                print(50)\n",
    "            if g == d_min:\n",
    "                print (0)\n",
    "            if g == d_max:\n",
    "                print(100)\n",
    "                "
   ]
  },
  {
   "cell_type": "markdown",
   "metadata": {},
   "source": [
    "#### 17. Print *d* and *f*. Do you have your expected *f*?\n",
    "For instance, if your *d* is:\n",
    "```python\n",
    "[[[1.85836099, 1.67064465, 1.62576044, 1.40243961, 1.88454931],\n",
    "[1.75354326, 1.69403643, 1.36729252, 1.61415071, 1.12104981],\n",
    "[1.72201435, 1.1862918 , 1.87078449, 1.7726778 , 1.88180042]],\n",
    "[[1.44747908, 1.31673383, 1.02000951, 1.52218947, 1.97066381],\n",
    "[1.79129243, 1.74983003, 1.96028037, 1.85166831, 1.65450881],\n",
    "[1.18068344, 1.9587381 , 1.00656599, 1.93402165, 1.73514584]]]\n",
    "```\n",
    "Your *f* should be:\n",
    "```python\n",
    "[[[ 75.,  75.,  75.,  25.,  75.],\n",
    "[ 75.,  75.,  25.,  25.,  25.],\n",
    "[ 75.,  25.,  75.,  75.,  75.]],\n",
    "[[ 25.,  25.,  25.,  25., 100.],\n",
    "[ 75.,  75.,  75.,  75.,  75.],\n",
    "[ 25.,  75.,   0.,  75.,  75.]]]\n",
    "```"
   ]
  },
  {
   "cell_type": "code",
   "execution_count": 100,
   "metadata": {},
   "outputs": [
    {
     "name": "stdout",
     "output_type": "stream",
     "text": [
      "[[[1.72708245 1.71199436 1.60373158 1.38691948 1.54303985]\n",
      "  [1.35222244 1.86801516 1.4760973  1.11946089 1.71893863]\n",
      "  [1.18198273 1.88959695 1.64787349 1.52438062 1.85636445]]\n",
      "\n",
      " [[1.78957323 1.64680252 1.26042885 1.45966897 1.874562  ]\n",
      "  [1.45549488 1.11891136 1.23782735 1.63863821 1.14196462]\n",
      "  [1.20004679 1.80266081 1.70515997 1.65861492 1.3704515 ]]]\n",
      "[[[75, 75, 75, 25, 75], [25, 75, 25, 25, 75], [25, 100, 75, 25, 75]], [[75, 75, 25, 25, 75], [25, 0, 25, 75, 25], [25, 75, 75, 75, 25]]]\n"
     ]
    }
   ],
   "source": [
    "print(d)\n",
    "print(f1)"
   ]
  },
  {
   "cell_type": "markdown",
   "metadata": {},
   "source": [
    "#### 18. Bonus question: instead of using numbers (i.e. 0, 25, 50, 75, and 100), use string values  (\"A\", \"B\", \"C\", \"D\", and \"E\") to label the array elements. For the example above, the expected result is:\n",
    "\n",
    "```python\n",
    "[[[ 'D',  'D',  'D',  'B',  'D'],\n",
    "[ 'D',  'D',  'B',  'B',  'B'],\n",
    "[ 'D',  'B',  'D',  'D',  'D']],\n",
    "[[ 'B',  'B',  'B',  'B',  'E'],\n",
    "[ 'D',  'D',  'D',  'D',  'D'],\n",
    "[ 'B',  'D',   'A',  'D', 'D']]]\n",
    "```\n",
    "**Note**: you don't have to use Numpy in this question."
   ]
  },
  {
   "cell_type": "code",
   "execution_count": null,
   "metadata": {},
   "outputs": [],
   "source": [
    "# your code here"
   ]
  }
 ],
 "metadata": {
  "kernelspec": {
   "display_name": "Python 3 (ipykernel)",
   "language": "python",
   "name": "python3"
  },
  "language_info": {
   "codemirror_mode": {
    "name": "ipython",
    "version": 3
   },
   "file_extension": ".py",
   "mimetype": "text/x-python",
   "name": "python",
   "nbconvert_exporter": "python",
   "pygments_lexer": "ipython3",
   "version": "3.9.12"
  }
 },
 "nbformat": 4,
 "nbformat_minor": 2
}
