{
 "cells": [
  {
   "cell_type": "code",
   "execution_count": 2,
   "id": "47bff165",
   "metadata": {},
   "outputs": [],
   "source": [
    "player1 = [[1, 1], [2, 1], [2, 2], [5, 5]];"
   ]
  },
  {
   "cell_type": "code",
   "execution_count": 7,
   "id": "076a5a79",
   "metadata": {},
   "outputs": [
    {
     "name": "stdout",
     "output_type": "stream",
     "text": [
      "[1, 1]\n"
     ]
    }
   ],
   "source": [
    "print(player1[0])"
   ]
  },
  {
   "cell_type": "code",
   "execution_count": null,
   "id": "84e892c3",
   "metadata": {},
   "outputs": [],
   "source": [
    "player1 = [[1, 1], [2, 1], [2, 2], [5, 5]];\n",
    "player2 = [[1, 2], [1, 2], [3, 3]];\n",
    "\n",
    "\n",
    "def battle(player1, player2):\n",
    "    for x in player1:\n",
    "        for y in player2:\n",
    "        if player1[x] =! player2 [y]:\n",
    "                def one_one(fight):\n",
    "                    first_battle = 0\n",
    "                    While \n",
    "    return {}\n",
    "\n",
    "\n",
    "\n",
    "longitud = len(lista1)\n",
    "indice = 0\n",
    "while indice < longitud:\n",
    "    item = lista1[indice]\n",
    "    if item == lista2[indice]:\n",
    "      "
   ]
  },
  {
   "cell_type": "code",
   "execution_count": null,
   "id": "b4bab2e6",
   "metadata": {},
   "outputs": [],
   "source": [
    "def enfrentamiento (one_one):\n",
    "    for x in player 1:\n",
    "        if "
   ]
  },
  {
   "cell_type": "code",
   "execution_count": 11,
   "id": "ce158819",
   "metadata": {},
   "outputs": [
    {
     "ename": "IndentationError",
     "evalue": "expected an indented block (4009312049.py, line 12)",
     "output_type": "error",
     "traceback": [
      "\u001b[0;36m  Input \u001b[0;32mIn [11]\u001b[0;36m\u001b[0m\n\u001b[0;31m    \u001b[0m\n\u001b[0m    ^\u001b[0m\n\u001b[0;31mIndentationError\u001b[0m\u001b[0;31m:\u001b[0m expected an indented block\n"
     ]
    }
   ],
   "source": [
    "#esta es la lista que va debajo\n",
    "def lucha(c1, c2):\n",
    "    if c1[0] >= c2[1] and c1[1] > c2[0]:\n",
    "        return c1, None\n",
    "    elif c2[0] >= c1[1] and c2[1] > c1[0]:\n",
    "        return None, c2\n",
    "    elif c1[0] < c2[1] and c1[1] > c2[0]:\n",
    "        return c1, c2\n",
    "    else:\n",
    "        return None, None\n",
    "    def resultado(x):\n",
    "        for i in "
   ]
  },
  {
   "cell_type": "code",
   "execution_count": 12,
   "id": "7817c1a5",
   "metadata": {},
   "outputs": [],
   "source": [
    "def competition (creature1, creature2):\n",
    "    if creature1[0] >= creature2[1]:\n",
    "        c2 = None\n",
    "    else:\n",
    "        c2= creature2\n",
    "    \n",
    "    if creature2[0] >= creature1[1]:\n",
    "        c1 = None\n",
    "    else:\n",
    "        c1 = creature1\n",
    "    return c1, c2\n",
    "        \n",
    "        "
   ]
  },
  {
   "cell_type": "code",
   "execution_count": null,
   "id": "7cc42994",
   "metadata": {},
   "outputs": [],
   "source": [
    "#la otra función le entran p1 y p2, los dos arrays, la lista de listas. \n",
    "#resultado de cada enfrentamiento en diccionario. \n",
    "\n",
    "\n"
   ]
  }
 ],
 "metadata": {
  "kernelspec": {
   "display_name": "Python [conda env:m1_ih]",
   "language": "python",
   "name": "conda-env-m1_ih-py"
  },
  "language_info": {
   "codemirror_mode": {
    "name": "ipython",
    "version": 3
   },
   "file_extension": ".py",
   "mimetype": "text/x-python",
   "name": "python",
   "nbconvert_exporter": "python",
   "pygments_lexer": "ipython3",
   "version": "3.9.12"
  }
 },
 "nbformat": 4,
 "nbformat_minor": 5
}
