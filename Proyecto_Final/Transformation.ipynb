{
 "cells": [
  {
   "cell_type": "code",
   "execution_count": 1,
   "id": "4039100b",
   "metadata": {},
   "outputs": [],
   "source": [
    "import sqlalchemy\n",
    "from sqlalchemy import create_engine\n",
    "from sqlalchemy import inspect\n",
    "import pandas as pd\n",
    "import requests"
   ]
  },
  {
   "cell_type": "code",
   "execution_count": 3,
   "id": "e9e4a311",
   "metadata": {},
   "outputs": [],
   "source": [
    "##### API\n",
    "\n",
    "def transformatio_api(json, key):\n",
    "    json = json[key]\n",
    "    return json\n",
    "\n",
    "def transformation_df(json):\n",
    "    df = pd.json_normalize(json)\n",
    "    return df\n",
    "\n",
    "def unir_dfs (df1, df2):\n",
    "    df = pd.concat([df1, df2], axis=0)\n",
    "    return df"
   ]
  },
  {
   "cell_type": "code",
   "execution_count": 4,
   "id": "884ff2a1",
   "metadata": {},
   "outputs": [],
   "source": [
    "###### SQL\n",
    "\n",
    "def transformation_sql_df(path):\n",
    "    df = pd.read_sql_query(query, path)\n",
    "    return df\n"
   ]
  },
  {
   "cell_type": "code",
   "execution_count": null,
   "id": "91ed465c",
   "metadata": {},
   "outputs": [],
   "source": []
  },
  {
   "cell_type": "code",
   "execution_count": null,
   "id": "3a94ab4a",
   "metadata": {},
   "outputs": [],
   "source": []
  }
 ],
 "metadata": {
  "kernelspec": {
   "display_name": "Python [conda env:p_f]",
   "language": "python",
   "name": "conda-env-p_f-py"
  },
  "language_info": {
   "codemirror_mode": {
    "name": "ipython",
    "version": 3
   },
   "file_extension": ".py",
   "mimetype": "text/x-python",
   "name": "python",
   "nbconvert_exporter": "python",
   "pygments_lexer": "ipython3",
   "version": "3.10.5"
  }
 },
 "nbformat": 4,
 "nbformat_minor": 5
}
