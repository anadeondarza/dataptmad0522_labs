{
 "cells": [
  {
   "cell_type": "markdown",
   "id": "2375bc90",
   "metadata": {},
   "source": [
    "### De qué se trata?"
   ]
  },
  {
   "cell_type": "code",
   "execution_count": 1,
   "id": "05f5743b",
   "metadata": {},
   "outputs": [
    {
     "ename": "SyntaxError",
     "evalue": "invalid syntax (2026658900.py, line 1)",
     "output_type": "error",
     "traceback": [
      "\u001b[0;36m  Input \u001b[0;32mIn [1]\u001b[0;36m\u001b[0m\n\u001b[0;31m    A continuación vamos a crear una aplicación con el objetivo de encontrar las estaciones de BiciMAD más cercanas a cada uno de nuestos monumetos de interés\u001b[0m\n\u001b[0m      ^\u001b[0m\n\u001b[0;31mSyntaxError\u001b[0m\u001b[0;31m:\u001b[0m invalid syntax\n"
     ]
    }
   ],
   "source": [
    "A continuación vamos a crear una aplicación con el objetivo de encontrar las estaciones de BiciMAD más cercanas a cada uno de nuestos monumetos de interés"
   ]
  },
  {
   "cell_type": "code",
   "execution_count": null,
   "id": "1906f35b",
   "metadata": {},
   "outputs": [],
   "source": []
  }
 ],
 "metadata": {
  "kernelspec": {
   "display_name": "Python [conda env:p_f]",
   "language": "python",
   "name": "conda-env-p_f-py"
  },
  "language_info": {
   "codemirror_mode": {
    "name": "ipython",
    "version": 3
   },
   "file_extension": ".py",
   "mimetype": "text/x-python",
   "name": "python",
   "nbconvert_exporter": "python",
   "pygments_lexer": "ipython3",
   "version": "3.10.5"
  }
 },
 "nbformat": 4,
 "nbformat_minor": 5
}
