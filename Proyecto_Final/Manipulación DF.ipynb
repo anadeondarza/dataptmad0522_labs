{
 "cells": [
  {
   "cell_type": "code",
   "execution_count": 8,
   "id": "f7345277",
   "metadata": {},
   "outputs": [],
   "source": [
    "import pandas as pd\n",
    "import requests"
   ]
  },
  {
   "cell_type": "code",
   "execution_count": 9,
   "id": "a41d76bd",
   "metadata": {},
   "outputs": [],
   "source": [
    "def new_columns_df (df):\n",
    "    df[[new_col_1, new_col_2]] = df[col].str.split(x ,expand=True)\n",
    "    df[new_col_1] = df[new_col_1].str.replace(y,'',regex=True)\n",
    "    df[new_col_2] = df[new_col_2].str.replace(y,'',regex=True)\n",
    "    df[new_col_2] = df[new_col_2].astype(float)\n",
    "    df[new_col_1] = df[new_col_1].astype(float)\n",
    "    return(df)"
   ]
  },
  {
   "cell_type": "code",
   "execution_count": 10,
   "id": "561953b7",
   "metadata": {},
   "outputs": [],
   "source": [
    "def drop_columns(df):\n",
    "    df = df.drop([col1, col2, col3,col4,col5, col6, col7, col8,col9,col10, col11, col12, col13], axis =1)\n",
    "    return df"
   ]
  },
  {
   "cell_type": "code",
   "execution_count": 11,
   "id": "164ef2a6",
   "metadata": {},
   "outputs": [],
   "source": [
    "def union (df1, df2):\n",
    "    df = df1.assign(key=\"i\").merge(df2.assign(key=\"i\"), how='left', on='key')\n",
    "    return df\n"
   ]
  },
  {
   "cell_type": "code",
   "execution_count": 12,
   "id": "570f1379",
   "metadata": {},
   "outputs": [],
   "source": [
    "#def mindistance (df):\n",
    "    #df = union.groupby([col]).agg('min')\n",
    "    #return df"
   ]
  },
  {
   "cell_type": "code",
   "execution_count": 13,
   "id": "6ec6a406",
   "metadata": {},
   "outputs": [],
   "source": [
    "def rename (df):\n",
    "    df = df.rename(columns={col1: col1_newname, col2:col2_newname, col3: col3_newname, col4: col4_newname, col5 : col5_newname})\n",
    "    return df"
   ]
  },
  {
   "cell_type": "code",
   "execution_count": null,
   "id": "1a7ebc0f",
   "metadata": {},
   "outputs": [],
   "source": []
  },
  {
   "cell_type": "code",
   "execution_count": null,
   "id": "519f8902",
   "metadata": {},
   "outputs": [],
   "source": []
  }
 ],
 "metadata": {
  "kernelspec": {
   "display_name": "Python [conda env:p_f]",
   "language": "python",
   "name": "conda-env-p_f-py"
  },
  "language_info": {
   "codemirror_mode": {
    "name": "ipython",
    "version": 3
   },
   "file_extension": ".py",
   "mimetype": "text/x-python",
   "name": "python",
   "nbconvert_exporter": "python",
   "pygments_lexer": "ipython3",
   "version": "3.10.5"
  }
 },
 "nbformat": 4,
 "nbformat_minor": 5
}
