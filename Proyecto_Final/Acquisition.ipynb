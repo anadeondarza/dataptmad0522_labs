{
 "cells": [
  {
   "cell_type": "code",
   "execution_count": 2,
   "id": "a52cd204",
   "metadata": {},
   "outputs": [],
   "source": [
    "import pandas as pd\n",
    "import requests"
   ]
  },
  {
   "cell_type": "code",
   "execution_count": 3,
   "id": "21d9191e",
   "metadata": {},
   "outputs": [],
   "source": [
    "def acquisition(path):\n",
    "    response = requests.get(path)\n",
    "    jsons = response.json()\n",
    "    return(json)"
   ]
  },
  {
   "cell_type": "code",
   "execution_count": 4,
   "id": "a6f4bfc1",
   "metadata": {},
   "outputs": [],
   "source": [
    "def acquisition2(path):\n",
    "    engine = create_engine(connect_str)\n",
    "    inspector = inspect(engine)\n",
    "    return(inspector)"
   ]
  },
  {
   "cell_type": "code",
   "execution_count": null,
   "id": "98d6cc68",
   "metadata": {},
   "outputs": [],
   "source": []
  }
 ],
 "metadata": {
  "kernelspec": {
   "display_name": "Python [conda env:p_f]",
   "language": "python",
   "name": "conda-env-p_f-py"
  },
  "language_info": {
   "codemirror_mode": {
    "name": "ipython",
    "version": 3
   },
   "file_extension": ".py",
   "mimetype": "text/x-python",
   "name": "python",
   "nbconvert_exporter": "python",
   "pygments_lexer": "ipython3",
   "version": "3.10.5"
  }
 },
 "nbformat": 4,
 "nbformat_minor": 5
}
