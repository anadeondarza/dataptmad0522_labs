{
 "cells": [
  {
   "cell_type": "code",
   "execution_count": null,
   "id": "b32d8e55",
   "metadata": {},
   "outputs": [],
   "source": [
    "import sqlalchemy\n",
    "from sqlalchemy import create_engine\n",
    "from sqlalchemy import inspect\n",
    "import pandas as pd\n",
    "import requests\n"
   ]
  },
  {
   "cell_type": "code",
   "execution_count": null,
   "id": "282b36b0",
   "metadata": {},
   "outputs": [],
   "source": [
    "response = requests.get('https://datos.madrid.es/egob/GET/catalogo/209434-0-templos-otros.json')\n",
    "jsons_1 = response.json()\n",
    "jsons_1.keys()\n",
    "json_trabajado = jsons_1['@graph']"
   ]
  },
  {
   "cell_type": "code",
   "execution_count": null,
   "id": "0d127c27",
   "metadata": {},
   "outputs": [],
   "source": [
    "df_flat_1 = pd.json_normalize(json_trabajado)"
   ]
  },
  {
   "cell_type": "code",
   "execution_count": null,
   "id": "56a629ca",
   "metadata": {},
   "outputs": [],
   "source": [
    "responses = requests.get('https://datos.madrid.es/egob/GET/catalogo/209426-0-templos-catolicas.json')\n",
    "json = responses.json()"
   ]
  },
  {
   "cell_type": "code",
   "execution_count": null,
   "id": "e401d5b7",
   "metadata": {},
   "outputs": [],
   "source": [
    "json_trabajado2 = json['@graph']"
   ]
  },
  {
   "cell_type": "code",
   "execution_count": null,
   "id": "a79d9486",
   "metadata": {},
   "outputs": [],
   "source": [
    "df_flat = pd.json_normalize(json_trabajado2)"
   ]
  },
  {
   "cell_type": "code",
   "execution_count": null,
   "id": "63234c2f",
   "metadata": {},
   "outputs": [],
   "source": [
    "df_templos = pd.concat([df_flat, df_flat_1], axis=0)"
   ]
  },
  {
   "cell_type": "code",
   "execution_count": null,
   "id": "f32196ef",
   "metadata": {},
   "outputs": [],
   "source": [
    "df_templos.tail(10)"
   ]
  },
  {
   "cell_type": "code",
   "execution_count": null,
   "id": "402fb6f5",
   "metadata": {},
   "outputs": [],
   "source": [
    "templos_df = df_templos.drop(['@id', '@type', 'id','relation','address.district.@id', 'address.area.@id', 'address.locality', 'address.postal-code','organization.organization-desc','organization.accesibility', 'organization.schedule', 'organization.services', 'organization.organization-name'], axis =1)"
   ]
  },
  {
   "cell_type": "code",
   "execution_count": null,
   "id": "6ed906fd",
   "metadata": {},
   "outputs": [],
   "source": [
    "templos_df"
   ]
  },
  {
   "cell_type": "code",
   "execution_count": null,
   "id": "8dc6f21e",
   "metadata": {},
   "outputs": [],
   "source": []
  },
  {
   "cell_type": "code",
   "execution_count": null,
   "id": "8164db81",
   "metadata": {},
   "outputs": [],
   "source": [
    "connect_str = 'mysql+pymysql://ironhack_user:%Vq=c>G5@173.201.189.217/BiciMAD'\n",
    "engine = create_engine(connect_str)\n",
    "inspector = inspect(engine)"
   ]
  },
  {
   "cell_type": "code",
   "execution_count": null,
   "id": "61d21b7c",
   "metadata": {},
   "outputs": [],
   "source": [
    "query_1 = '''\n",
    "\n",
    "SELECT *\n",
    "FROM bicimad_stations\n",
    "'''\n",
    "\n",
    "df = pd.read_sql_query(query_1, connect_str)"
   ]
  },
  {
   "cell_type": "code",
   "execution_count": null,
   "id": "2edc2067",
   "metadata": {},
   "outputs": [],
   "source": [
    "df[[\"longitud\",\"latitud\"]]=df[\"geometry.coordinates\"].str.split(\",\",expand=True)\n",
    "df['longitud'] = df['longitud'].str.replace('[','',regex=True)\n",
    "df[\"latitud\"]=df['latitud'].str.replace(']','',regex=True)\n",
    "\n",
    "df['latitud'] = df['latitud'].astype(float)\n",
    "df['longitud'] = df['longitud'].astype(float)\n",
    "df"
   ]
  },
  {
   "cell_type": "code",
   "execution_count": null,
   "id": "638ec62f",
   "metadata": {},
   "outputs": [],
   "source": [
    "estaciones_df = df.drop(['id', 'light', 'number','activate','no_available','geometry.coordinates', 'total_bases', 'dock_bikes', 'free_bases','reservations_count','geometry.type'], axis =1)"
   ]
  },
  {
   "cell_type": "code",
   "execution_count": null,
   "id": "94be0004",
   "metadata": {},
   "outputs": [],
   "source": [
    "estaciones_df"
   ]
  },
  {
   "cell_type": "code",
   "execution_count": null,
   "id": "c71f2f78",
   "metadata": {},
   "outputs": [],
   "source": [
    "union = templos_df.assign(key=\"union\").merge(estaciones_df.assign(key=\"union\"), how='left', on='key')\n",
    "union"
   ]
  },
  {
   "cell_type": "code",
   "execution_count": null,
   "id": "d06a891b",
   "metadata": {},
   "outputs": [],
   "source": []
  },
  {
   "cell_type": "code",
   "execution_count": null,
   "id": "26fab1ed",
   "metadata": {},
   "outputs": [],
   "source": [
    "longitud_bicis = list(estaciones_df['longitud'])"
   ]
  },
  {
   "cell_type": "code",
   "execution_count": null,
   "id": "7f02186f",
   "metadata": {},
   "outputs": [],
   "source": [
    "latitud_bicis = list(estaciones_df['latitud'])"
   ]
  },
  {
   "cell_type": "code",
   "execution_count": null,
   "id": "ea8fa074",
   "metadata": {},
   "outputs": [],
   "source": [
    "longitud_templos = list(templos_df['location.longitude'])"
   ]
  },
  {
   "cell_type": "code",
   "execution_count": null,
   "id": "56e68ad0",
   "metadata": {},
   "outputs": [],
   "source": [
    "latitud_templos = list(templos_df['location.latitude'])"
   ]
  },
  {
   "cell_type": "code",
   "execution_count": null,
   "id": "8f27fd25",
   "metadata": {},
   "outputs": [],
   "source": []
  },
  {
   "cell_type": "code",
   "execution_count": null,
   "id": "cdee7881",
   "metadata": {},
   "outputs": [],
   "source": [
    "from shapely.geometry import Point\n",
    "import geopandas as gpd   # conda install -c conda-forge geopandas\n",
    "\n",
    "def to_mercator(lat, long):\n",
    "    # transform latitude/longitude data in degrees to pseudo-mercator coordinates in metres\n",
    "    c = gpd.GeoSeries([Point(lat, long)], crs=4326)\n",
    "    c = c.to_crs(3857)\n",
    "    return c"
   ]
  },
  {
   "cell_type": "code",
   "execution_count": null,
   "id": "357607f9",
   "metadata": {},
   "outputs": [],
   "source": [
    "def distance_meters(lat_start, long_start, lat_finish, long_finish):\n",
    "    # return the distance in metres between to latitude/longitude pair point in degrees (i.e.: 40.392436 / -3.6994487)\n",
    "    start = to_mercator(lat_start, long_start)\n",
    "    finish = to_mercator(lat_finish, long_finish)\n",
    "    return start.distance(finish)"
   ]
  },
  {
   "cell_type": "code",
   "execution_count": null,
   "id": "b4ebb03e",
   "metadata": {},
   "outputs": [],
   "source": [
    "union['p'] = union.apply(lambda x: distance_meters(40.414203, -3.709672, x['latitud'], x['longitud']),axis=1)\n"
   ]
  },
  {
   "cell_type": "code",
   "execution_count": null,
   "id": "97ba5a06",
   "metadata": {},
   "outputs": [],
   "source": [
    "union"
   ]
  },
  {
   "cell_type": "code",
   "execution_count": null,
   "id": "3d55e973",
   "metadata": {},
   "outputs": [],
   "source": []
  },
  {
   "cell_type": "code",
   "execution_count": null,
   "id": "f846deae",
   "metadata": {},
   "outputs": [],
   "source": []
  },
  {
   "cell_type": "code",
   "execution_count": null,
   "id": "26cad6f5",
   "metadata": {},
   "outputs": [],
   "source": []
  },
  {
   "cell_type": "code",
   "execution_count": null,
   "id": "fc0a0c61",
   "metadata": {},
   "outputs": [],
   "source": []
  },
  {
   "cell_type": "code",
   "execution_count": null,
   "id": "257de09f",
   "metadata": {},
   "outputs": [],
   "source": []
  },
  {
   "cell_type": "code",
   "execution_count": null,
   "id": "5a0f4ff6",
   "metadata": {},
   "outputs": [],
   "source": []
  },
  {
   "cell_type": "code",
   "execution_count": null,
   "id": "113cc88c",
   "metadata": {},
   "outputs": [],
   "source": []
  }
 ],
 "metadata": {
  "kernelspec": {
   "display_name": "Python [conda env:p_f]",
   "language": "python",
   "name": "conda-env-p_f-py"
  },
  "language_info": {
   "codemirror_mode": {
    "name": "ipython",
    "version": 3
   },
   "file_extension": ".py",
   "mimetype": "text/x-python",
   "name": "python",
   "nbconvert_exporter": "python",
   "pygments_lexer": "ipython3",
   "version": "3.10.5"
  }
 },
 "nbformat": 4,
 "nbformat_minor": 5
}
