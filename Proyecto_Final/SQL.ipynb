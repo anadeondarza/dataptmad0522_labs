{
 "cells": [
  {
   "cell_type": "code",
   "execution_count": null,
   "id": "9437c704",
   "metadata": {},
   "outputs": [],
   "source": []
  },
  {
   "cell_type": "code",
   "execution_count": 4,
   "id": "81c66a94",
   "metadata": {},
   "outputs": [],
   "source": [
    "import sqlalchemy\n",
    "from sqlalchemy import create_engine\n",
    "from sqlalchemy import inspect\n",
    "import pandas as pd"
   ]
  },
  {
   "cell_type": "code",
   "execution_count": 5,
   "id": "f41117d5",
   "metadata": {},
   "outputs": [],
   "source": [
    "connect_str = 'mysql+pymysql://ironhack_user:%Vq=c>G5@173.201.189.217/BiciMAD'"
   ]
  },
  {
   "cell_type": "code",
   "execution_count": 6,
   "id": "3d06223d",
   "metadata": {},
   "outputs": [
    {
     "data": {
      "text/plain": [
       "sqlalchemy.engine.base.Engine"
      ]
     },
     "execution_count": 6,
     "metadata": {},
     "output_type": "execute_result"
    }
   ],
   "source": [
    "engine = create_engine(connect_str)\n",
    "type(engine)"
   ]
  },
  {
   "cell_type": "code",
   "execution_count": 8,
   "id": "9ba09469",
   "metadata": {},
   "outputs": [
    {
     "data": {
      "text/plain": [
       "['bicimad_stations', 'bicipark_stations']"
      ]
     },
     "execution_count": 8,
     "metadata": {},
     "output_type": "execute_result"
    }
   ],
   "source": [
    "inspector = inspect(engine)\n",
    "inspector.get_table_names()"
   ]
  },
  {
   "cell_type": "code",
   "execution_count": 18,
   "id": "18c4fc03",
   "metadata": {},
   "outputs": [
    {
     "data": {
      "text/html": [
       "<div>\n",
       "<style scoped>\n",
       "    .dataframe tbody tr th:only-of-type {\n",
       "        vertical-align: middle;\n",
       "    }\n",
       "\n",
       "    .dataframe tbody tr th {\n",
       "        vertical-align: top;\n",
       "    }\n",
       "\n",
       "    .dataframe thead th {\n",
       "        text-align: right;\n",
       "    }\n",
       "</style>\n",
       "<table border=\"1\" class=\"dataframe\">\n",
       "  <thead>\n",
       "    <tr style=\"text-align: right;\">\n",
       "      <th></th>\n",
       "      <th>stationId</th>\n",
       "      <th>stationName</th>\n",
       "      <th>address</th>\n",
       "      <th>city</th>\n",
       "      <th>zip_code</th>\n",
       "      <th>total_places</th>\n",
       "      <th>free_places</th>\n",
       "      <th>enabled</th>\n",
       "      <th>reserved_places</th>\n",
       "      <th>geometry.type</th>\n",
       "      <th>geometry.coordinates</th>\n",
       "    </tr>\n",
       "  </thead>\n",
       "  <tbody>\n",
       "    <tr>\n",
       "      <th>0</th>\n",
       "      <td>74</td>\n",
       "      <td>Bicipark Fuente de la Mora</td>\n",
       "      <td>Estación de Fuente de la Mora</td>\n",
       "      <td>Madrid</td>\n",
       "      <td>28050</td>\n",
       "      <td>10</td>\n",
       "      <td>9</td>\n",
       "      <td>1</td>\n",
       "      <td>0</td>\n",
       "      <td>Point</td>\n",
       "      <td>[-3.6630679, 40.4846838]</td>\n",
       "    </tr>\n",
       "    <tr>\n",
       "      <th>1</th>\n",
       "      <td>22</td>\n",
       "      <td>Bicipark Orense</td>\n",
       "      <td>Avenida General Perón, 27</td>\n",
       "      <td>Madrid</td>\n",
       "      <td>28020</td>\n",
       "      <td>15</td>\n",
       "      <td>9</td>\n",
       "      <td>1</td>\n",
       "      <td>1</td>\n",
       "      <td>Point</td>\n",
       "      <td>[-3.693897, 40.452973]</td>\n",
       "    </tr>\n",
       "    <tr>\n",
       "      <th>2</th>\n",
       "      <td>49</td>\n",
       "      <td>Bicipark Montalban</td>\n",
       "      <td>Calle de Montalbán, 5</td>\n",
       "      <td>Madrid</td>\n",
       "      <td>28014</td>\n",
       "      <td>16</td>\n",
       "      <td>15</td>\n",
       "      <td>1</td>\n",
       "      <td>0</td>\n",
       "      <td>Point</td>\n",
       "      <td>[-3.690786, 40.418146]</td>\n",
       "    </tr>\n",
       "    <tr>\n",
       "      <th>3</th>\n",
       "      <td>12</td>\n",
       "      <td>Bicipark Almagro</td>\n",
       "      <td>Calle Almagro, 11</td>\n",
       "      <td>Madrid</td>\n",
       "      <td>28010</td>\n",
       "      <td>16</td>\n",
       "      <td>12</td>\n",
       "      <td>1</td>\n",
       "      <td>0</td>\n",
       "      <td>Point</td>\n",
       "      <td>[-3.692879, 40.430361]</td>\n",
       "    </tr>\n",
       "    <tr>\n",
       "      <th>4</th>\n",
       "      <td>9</td>\n",
       "      <td>Bicipark Recoletos</td>\n",
       "      <td>Paseo de Recoletos, 2</td>\n",
       "      <td>Madrid</td>\n",
       "      <td>28001</td>\n",
       "      <td>10</td>\n",
       "      <td>3</td>\n",
       "      <td>0</td>\n",
       "      <td>0</td>\n",
       "      <td>Point</td>\n",
       "      <td>[-3.692245, 40.420354]</td>\n",
       "    </tr>\n",
       "    <tr>\n",
       "      <th>5</th>\n",
       "      <td>5</td>\n",
       "      <td>Bicipark Recuerdo</td>\n",
       "      <td>Calle Hiedra, 26</td>\n",
       "      <td>Madrid</td>\n",
       "      <td>28036</td>\n",
       "      <td>13</td>\n",
       "      <td>13</td>\n",
       "      <td>1</td>\n",
       "      <td>0</td>\n",
       "      <td>Point</td>\n",
       "      <td>[-3.678921, 40.472419]</td>\n",
       "    </tr>\n",
       "    <tr>\n",
       "      <th>6</th>\n",
       "      <td>25</td>\n",
       "      <td>Bicipark Salamanca</td>\n",
       "      <td>Pl. del Marqués de Salamanca</td>\n",
       "      <td>Madrid</td>\n",
       "      <td>28006</td>\n",
       "      <td>5</td>\n",
       "      <td>-1</td>\n",
       "      <td>1</td>\n",
       "      <td>0</td>\n",
       "      <td>Point</td>\n",
       "      <td>[-3.679172, 40.430315]</td>\n",
       "    </tr>\n",
       "    <tr>\n",
       "      <th>7</th>\n",
       "      <td>67</td>\n",
       "      <td>Bicipark Villa de Paris</td>\n",
       "      <td>Calle de Orellana, 23, 21</td>\n",
       "      <td>Madrid</td>\n",
       "      <td>28004</td>\n",
       "      <td>10</td>\n",
       "      <td>8</td>\n",
       "      <td>1</td>\n",
       "      <td>1</td>\n",
       "      <td>Point</td>\n",
       "      <td>[-3.693698, 40.425608]</td>\n",
       "    </tr>\n",
       "    <tr>\n",
       "      <th>8</th>\n",
       "      <td>1154</td>\n",
       "      <td>Bicipark Pitis</td>\n",
       "      <td>Calle Pau Arroyo del Fresno, 181</td>\n",
       "      <td>Madrid</td>\n",
       "      <td>28049</td>\n",
       "      <td>10</td>\n",
       "      <td>7</td>\n",
       "      <td>1</td>\n",
       "      <td>0</td>\n",
       "      <td>Point</td>\n",
       "      <td>[-3.7249142, 40.4959425]</td>\n",
       "    </tr>\n",
       "    <tr>\n",
       "      <th>9</th>\n",
       "      <td>1169</td>\n",
       "      <td>Bicipark Aviación</td>\n",
       "      <td>Parking Aviación Española</td>\n",
       "      <td>Madrid</td>\n",
       "      <td>28024</td>\n",
       "      <td>10</td>\n",
       "      <td>10</td>\n",
       "      <td>1</td>\n",
       "      <td>0</td>\n",
       "      <td>Point</td>\n",
       "      <td>[-3.78369522, 40.383491516]</td>\n",
       "    </tr>\n",
       "    <tr>\n",
       "      <th>10</th>\n",
       "      <td>1238</td>\n",
       "      <td>Bicipark Canalejas</td>\n",
       "      <td>-</td>\n",
       "      <td>Madrid</td>\n",
       "      <td>-</td>\n",
       "      <td>10</td>\n",
       "      <td>10</td>\n",
       "      <td>1</td>\n",
       "      <td>0</td>\n",
       "      <td>Point</td>\n",
       "      <td>[-3.6994506, 40.417807676]</td>\n",
       "    </tr>\n",
       "  </tbody>\n",
       "</table>\n",
       "</div>"
      ],
      "text/plain": [
       "    stationId                 stationName                           address  \\\n",
       "0          74  Bicipark Fuente de la Mora     Estación de Fuente de la Mora   \n",
       "1          22             Bicipark Orense         Avenida General Perón, 27   \n",
       "2          49          Bicipark Montalban             Calle de Montalbán, 5   \n",
       "3          12            Bicipark Almagro                 Calle Almagro, 11   \n",
       "4           9          Bicipark Recoletos             Paseo de Recoletos, 2   \n",
       "5           5           Bicipark Recuerdo                  Calle Hiedra, 26   \n",
       "6          25          Bicipark Salamanca      Pl. del Marqués de Salamanca   \n",
       "7          67     Bicipark Villa de Paris         Calle de Orellana, 23, 21   \n",
       "8        1154              Bicipark Pitis  Calle Pau Arroyo del Fresno, 181   \n",
       "9        1169           Bicipark Aviación         Parking Aviación Española   \n",
       "10       1238          Bicipark Canalejas                                 -   \n",
       "\n",
       "       city zip_code  total_places  free_places  enabled  reserved_places  \\\n",
       "0    Madrid    28050            10            9        1                0   \n",
       "1    Madrid    28020            15            9        1                1   \n",
       "2    Madrid    28014            16           15        1                0   \n",
       "3    Madrid    28010            16           12        1                0   \n",
       "4    Madrid    28001            10            3        0                0   \n",
       "5    Madrid    28036            13           13        1                0   \n",
       "6    Madrid    28006             5           -1        1                0   \n",
       "7    Madrid    28004            10            8        1                1   \n",
       "8    Madrid    28049            10            7        1                0   \n",
       "9    Madrid    28024            10           10        1                0   \n",
       "10   Madrid        -            10           10        1                0   \n",
       "\n",
       "   geometry.type         geometry.coordinates  \n",
       "0          Point     [-3.6630679, 40.4846838]  \n",
       "1          Point       [-3.693897, 40.452973]  \n",
       "2          Point       [-3.690786, 40.418146]  \n",
       "3          Point       [-3.692879, 40.430361]  \n",
       "4          Point       [-3.692245, 40.420354]  \n",
       "5          Point       [-3.678921, 40.472419]  \n",
       "6          Point       [-3.679172, 40.430315]  \n",
       "7          Point       [-3.693698, 40.425608]  \n",
       "8          Point     [-3.7249142, 40.4959425]  \n",
       "9          Point  [-3.78369522, 40.383491516]  \n",
       "10         Point   [-3.6994506, 40.417807676]  "
      ]
     },
     "execution_count": 18,
     "metadata": {},
     "output_type": "execute_result"
    }
   ],
   "source": [
    "query_1 = '''\n",
    "\n",
    "SELECT *\n",
    "FROM bicipark_stations\n",
    "\n",
    "'''\n",
    "\n",
    "df_1 = pd.read_sql_query(query_1, connect_str)\n",
    "df_1"
   ]
  },
  {
   "cell_type": "code",
   "execution_count": 23,
   "id": "d50f741a",
   "metadata": {},
   "outputs": [],
   "source": [
    " column = df_1['geometry.coordinates']"
   ]
  },
  {
   "cell_type": "code",
   "execution_count": 24,
   "id": "d06e0e4b",
   "metadata": {},
   "outputs": [
    {
     "name": "stdout",
     "output_type": "stream",
     "text": [
      "<class 'pandas.core.series.Series'>\n"
     ]
    }
   ],
   "source": [
    "print(type(column))"
   ]
  },
  {
   "cell_type": "code",
   "execution_count": 38,
   "id": "5b98a22e",
   "metadata": {},
   "outputs": [
    {
     "data": {
      "text/plain": [
       "'[-3.693897, 40.452973]'"
      ]
     },
     "execution_count": 38,
     "metadata": {},
     "output_type": "execute_result"
    }
   ],
   "source": [
    "column[1]"
   ]
  },
  {
   "cell_type": "code",
   "execution_count": 39,
   "id": "e46fd118",
   "metadata": {},
   "outputs": [
    {
     "name": "stdout",
     "output_type": "stream",
     "text": [
      "[-3.6630679, 40.4846838]\n",
      "[-3.693897, 40.452973]\n",
      "[-3.690786, 40.418146]\n",
      "[-3.692879, 40.430361]\n",
      "[-3.692245, 40.420354]\n",
      "[-3.678921, 40.472419]\n",
      "[-3.679172, 40.430315]\n",
      "[-3.693698, 40.425608]\n",
      "[-3.7249142, 40.4959425]\n",
      "[-3.78369522, 40.383491516]\n",
      "[-3.6994506, 40.417807676]\n"
     ]
    }
   ],
   "source": [
    "for x in column:\n",
    "    y = x.replace( \"[]\" ,\" \")\n",
    "    print(y)"
   ]
  },
  {
   "cell_type": "code",
   "execution_count": 43,
   "id": "f6ec0263",
   "metadata": {},
   "outputs": [
    {
     "data": {
      "text/plain": [
       "'9945'"
      ]
     },
     "execution_count": 43,
     "metadata": {},
     "output_type": "execute_result"
    }
   ],
   "source": []
  },
  {
   "cell_type": "code",
   "execution_count": null,
   "id": "bcc52ec4",
   "metadata": {},
   "outputs": [],
   "source": [
    "for i in y:\n",
    "    c = y.replace([], \" \")\n",
    "    print(c)"
   ]
  }
 ],
 "metadata": {
  "kernelspec": {
   "display_name": "Python [conda env:p_f]",
   "language": "python",
   "name": "conda-env-p_f-py"
  },
  "language_info": {
   "codemirror_mode": {
    "name": "ipython",
    "version": 3
   },
   "file_extension": ".py",
   "mimetype": "text/x-python",
   "name": "python",
   "nbconvert_exporter": "python",
   "pygments_lexer": "ipython3",
   "version": "3.10.4"
  }
 },
 "nbformat": 4,
 "nbformat_minor": 5
}
